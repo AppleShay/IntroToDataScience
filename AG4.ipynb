{
 "cells": [
  {
   "cell_type": "markdown",
   "id": "e9959f48",
   "metadata": {
    "deletable": false
   },
   "source": [
    "\n",
    "# Assignment 4 for Course 1MS041\n",
    "Make sure you pass the `# ... Test` cells and\n",
    " submit your solution notebook in the corresponding assignment on the course website. You can submit multiple times before the deadline and your highest score will be used."
   ]
  },
  {
   "cell_type": "markdown",
   "id": "b63d8b71",
   "metadata": {
    "deletable": false,
    "lx_assignment_number": "4",
    "lx_assignment_type": "ASSIGNMENT",
    "lx_assignment_type2print": "Assignment",
    "lx_problem_cell_type": "PROBLEM",
    "lx_problem_number": "1",
    "lx_problem_points": "24"
   },
   "source": [
    "---\n",
    "## Assignment 4, PROBLEM 1\n",
    "Maximum Points = 24"
   ]
  },
  {
   "cell_type": "markdown",
   "id": "04e1585d",
   "metadata": {
    "deletable": false,
    "lx_assignment_number": "4",
    "lx_assignment_type": "ASSIGNMENT",
    "lx_assignment_type2print": "Assignment",
    "lx_problem_cell_type": "PROBLEM",
    "lx_problem_number": "1",
    "lx_problem_points": "24"
   },
   "source": [
    "\n",
    "    This time the assignment only consists of one problem, but we will do a more comprehensive analysis instead.\n",
    "\n",
    "Consider the dataset `Corona_NLP_train.csv` that you can get from the course website [git](https://github.com/datascience-intro/1MS041-2024/blob/main/notebooks/data/Corona_NLP_train.csv). The data is \"Coronavirus tweets NLP - Text Classification\" that can be found on [kaggle](https://www.kaggle.com/datasets/datatattle/covid-19-nlp-text-classification). The data has several columns, but we will only be working with `OriginalTweet`and `Sentiment`.\n",
    "\n",
    "1. [3p] Load the data and filter out those tweets that have `Sentiment`=`Neutral`. Let $X$ represent the `OriginalTweet` and let \n",
    "    $$\n",
    "        Y = \n",
    "        \\begin{cases}\n",
    "        1 & \\text{if sentiment is towards positive}\n",
    "        \\\\\n",
    "        0 & \\text{if sentiment is towards negative}.\n",
    "        \\end{cases}\n",
    "    $$\n",
    "    Put the resulting arrays into the variables $X$ and $Y$. Split the data into three parts, train/test/validation where train is 60% of the data, test is 15% and validation is 25% of the data. Do not do this randomly, this is to make sure that we all did the same splits (we are in this case assuming the data is IID as presented in the dataset). That is [train,test,validation] is the splitting layout.\n",
    "\n",
    "2. [4p] There are many ways to solve this classification problem. The first main issue to resolve is to convert the $X$ variable to something that you can feed into a machine learning model. For instance, you can first use [`CountVectorizer`](https://scikit-learn.org/1.5/modules/generated/sklearn.feature_extraction.text.CountVectorizer.html) as the first step. The step that comes after should be a `LogisticRegression` model, but for this to work you need to put together the `CountVectorizer` and the `LogisticRegression` model into a [`Pipeline`](https://scikit-learn.org/1.5/modules/generated/sklearn.pipeline.Pipeline.html#sklearn.pipeline.Pipeline). Fill in the variable `model` such that it accepts the raw text as input and outputs a number $0$ or $1$, make sure that `model.predict_proba` works for this. **Hint: You might need to play with the parameters of LogisticRegression to get convergence, make sure that it doesn't take too long or the autograder might kill your code**\n",
    "3. [3p] Use your trained model and calculate the precision and recall on both classes. Fill in the corresponding variables with the answer.\n",
    "4. [3p] Let us now define a cost function\n",
    "    * A positive tweet that is classified as negative will have a cost of 1\n",
    "    * A negative tweet that is classified as positive will have a cost of 5\n",
    "    * Correct classifications cost 0\n",
    "    \n",
    "    complete filling the function `cost` to compute the cost of a prediction model under a certain prediction threshold (recall our precision recall lecture and the `predict_proba` function from trained models). \n",
    "\n",
    "5. [4p] Now, we wish to select the threshold of our classifier that minimizes the cost, fill in the selected threshold value in value `optimal_threshold`.\n",
    "6. [4p] With your newly computed threshold value, compute the cost of putting this model in production by computing the cost using the validation data. Also provide a confidence interval of the cost using Hoeffdings inequality with a 99% confidence.\n",
    "7. [3p] Let $t$ be the threshold you found and $f$ the model you fitted (one of the outputs of `predict_proba`), if we define the random variable\n",
    "    $$\n",
    "        C = (1-1_{f(X)\\geq t})Y+5(1-Y)1_{f(X) \\geq t}\n",
    "    $$\n",
    "    then $C$ denotes the cost of a randomly chosen tweet. In the previous step we estimated $\\mathbb{E}[C]$ using the empirical mean. However, since the threshold is chosen to minimize cost it is likely that $C=0$ or $C=1$ than $C=5$ as such it will have a low variance. Compute the empirical variance of $C$ on the validation set. What would be the confidence interval if we used Bennett's inequality instead of Hoeffding in point 6 but with the computed empirical variance as our guess for the variance?"
   ]
  },
  {
   "cell_type": "code",
   "execution_count": null,
   "id": "49e6fa33",
   "metadata": {
    "deletable": false,
    "lx_assignment_number": "4",
    "lx_assignment_type": "ASSIGNMENT",
    "lx_assignment_type2print": "Assignment",
    "lx_problem_cell_type": "PROBLEM",
    "lx_problem_number": "1",
    "lx_problem_points": "24"
   },
   "outputs": [
    {
     "name": "stdout",
     "output_type": "stream",
     "text": [
      "Data shapes:\n",
      "X: (33444,), Y: (33444,)\n",
      "X_train: (20066,), Y_train: (20066,)\n",
      "X_test: (5016,), Y_test: (5016,)\n",
      "X_val: (8362,), Y_val: (8362,)\n"
     ]
    }
   ],
   "source": [
    "import pandas as pd\n",
    "import numpy as np\n",
    "from sklearn.feature_extraction.text import CountVectorizer\n",
    "from sklearn.linear_model import LogisticRegression\n",
    "from sklearn.pipeline import Pipeline\n",
    "\n",
    "# Load the dataset with appropriate encoding\n",
    "file_path = 'data/Corona_NLP_train.csv'\n",
    "data = pd.read_csv(file_path, encoding='ISO-8859-1')\n",
    "\n",
    "# Filter out Neutral sentiments\n",
    "filtered_data = data[data['Sentiment'] != 'Neutral'].copy()\n",
    "\n",
    "# Map sentiments to binary labels\n",
    "sentiment_mapping = {\n",
    "    'Positive': 1,\n",
    "    'Extremely Positive': 1,\n",
    "    'Negative': 0,\n",
    "    'Extremely Negative': 0\n",
    "}\n",
    "filtered_data['Sentiment'] = filtered_data['Sentiment'].map(sentiment_mapping)\n",
    "\n",
    "# Extract the features and labels\n",
    "X = filtered_data['OriginalTweet'].values\n",
    "Y = filtered_data['Sentiment'].values\n",
    "\n",
    "# Split data into fixed proportions: train (60%), test (15%), validation (25%)\n",
    "train_size = int(0.6 * len(X))\n",
    "test_size = int(0.15 * len(X))\n",
    "validation_size = len(X) - train_size - test_size\n",
    "\n",
    "X_train, X_test, X_valid = (\n",
    "    X[:train_size], \n",
    "    X[train_size:train_size + test_size], \n",
    "    X[train_size + test_size:]\n",
    ")\n",
    "Y_train, Y_test, Y_valid = (\n",
    "    Y[:train_size], \n",
    "    Y[train_size:train_size + test_size], \n",
    "    Y[train_size + test_size:]\n",
    ")\n",
    "\n",
    "# Convert data splits into 1-dimensional NumPy arrays\n",
    "X = np.array(X)\n",
    "Y = np.array(Y)\n",
    "\n",
    "X_train = np.array(X_train)\n",
    "Y_train = np.array(Y_train)\n",
    "\n",
    "X_test = np.array(X_test)\n",
    "Y_test = np.array(Y_test)\n",
    "\n",
    "X_valid = np.array(X_valid)\n",
    "Y_valid = np.array(Y_valid)\n",
    "\n",
    "# Output the shapes of the splits to confirm\n",
    "print(\"Data shapes:\")\n",
    "print(f\"X: {X.shape}, Y: {Y.shape}\")\n",
    "print(f\"X_train: {X_train.shape}, Y_train: {Y_train.shape}\")\n",
    "print(f\"X_test: {X_test.shape}, Y_test: {Y_test.shape}\")\n",
    "print(f\"X_val: {X_valid.shape}, Y_val: {Y_valid.shape}\")\n",
    "\n",
    "\n",
    "# Part 1\n",
    "\n",
    "# Load the data from the file specified in the problem definition and make sure that it is loaded using\n",
    "# the search path `data/Corona_NLP_train.csv`. This is to make sure the autograder and your computer have the same\n",
    "# file path and can load the data correctly.\n",
    "\n",
    "# Contrary to how many other problems are structured, this problem actually requires you to\n",
    "# have X on the shape (n_samples, ) that is a 1-dimensional array. Otherwise it will cause a bunch\n",
    "# of errors in the autograder or also in for instance CountVectorizer.\n",
    "\n",
    "# Make sure that all your data is numpy arrays and not pandas dataframes or series.\n"
   ]
  },
  {
   "cell_type": "code",
   "execution_count": 5,
   "id": "078fe203",
   "metadata": {
    "deletable": false,
    "lx_assignment_number": "4",
    "lx_assignment_type": "ASSIGNMENT",
    "lx_assignment_type2print": "Assignment",
    "lx_problem_cell_type": "PROBLEM",
    "lx_problem_number": "1",
    "lx_problem_points": "24"
   },
   "outputs": [
    {
     "name": "stdout",
     "output_type": "stream",
     "text": [
      "Model training completed.\n"
     ]
    }
   ],
   "source": [
    "\n",
    "# Part 2\n",
    "\n",
    "# Train a machine learning model or pipeline that can take the raw strings from X and predict Y=0,1 depending on the\n",
    "# sentiment of the tweet. Store the trained model in the variable `model`.\n",
    "\n",
    "# Part 2: Train a machine learning model pipeline\n",
    "model = Pipeline([\n",
    "    ('vectorizer', CountVectorizer()),\n",
    "    ('classifier', LogisticRegression(max_iter=1000, solver='lbfgs'))\n",
    "])\n",
    "\n",
    "# Train the model on the training data\n",
    "model.fit(X_train, Y_train)\n",
    "\n",
    "# Confirm the model is trained and ready\n",
    "print(\"Model training completed.\")\n"
   ]
  },
  {
   "cell_type": "code",
   "execution_count": 6,
   "id": "ec6fd1d4",
   "metadata": {
    "deletable": false,
    "lx_assignment_number": "4",
    "lx_assignment_type": "ASSIGNMENT",
    "lx_assignment_type2print": "Assignment",
    "lx_problem_cell_type": "PROBLEM",
    "lx_problem_number": "1",
    "lx_problem_points": "24"
   },
   "outputs": [
    {
     "name": "stdout",
     "output_type": "stream",
     "text": [
      "Precision and Recall:\n",
      "Class 0 - Precision: 0.8581466842336407, Recall: 0.8477223427331887\n",
      "Class 1 - Precision: 0.8718510405257394, Recall: 0.8808557727775729\n"
     ]
    }
   ],
   "source": [
    "from sklearn.metrics import precision_score, recall_score\n",
    "# Part 3\n",
    "\n",
    "# Evaluate the model on the test set and calculate precision, and recall on both classes. Store the results in the\n",
    "# variables `precision_0`, `precision_1`, `recall_0`, `recall_1`.\n",
    "\n",
    "# Part 3: Evaluate the model on the test set\n",
    "Y_pred = model.predict(X_test)\n",
    "\n",
    "precision_0 = precision_score(Y_test, Y_pred, pos_label=0)\n",
    "precision_1 = precision_score(Y_test, Y_pred, pos_label=1)\n",
    "recall_0 = recall_score(Y_test, Y_pred, pos_label=0)\n",
    "recall_1 = recall_score(Y_test, Y_pred, pos_label=1)\n",
    "\n",
    "# Output precision and recall for both classes\n",
    "print(\"Precision and Recall:\")\n",
    "print(f\"Class 0 - Precision: {precision_0}, Recall: {recall_0}\")\n",
    "print(f\"Class 1 - Precision: {precision_1}, Recall: {recall_1}\")"
   ]
  },
  {
   "cell_type": "code",
   "execution_count": 7,
   "id": "10698374",
   "metadata": {
    "deletable": false,
    "lx_assignment_number": "4",
    "lx_assignment_type": "ASSIGNMENT",
    "lx_assignment_type2print": "Assignment",
    "lx_problem_cell_type": "PROBLEM",
    "lx_problem_number": "1",
    "lx_problem_points": "24"
   },
   "outputs": [],
   "source": [
    "# Part 4: Define the cost function\n",
    "def cost(model, threshold, X, Y):\n",
    "    # Get predicted probabilities\n",
    "    probabilities = model.predict_proba(X)[:, 1]  # Probabilities for class 1\n",
    "    \n",
    "    # Apply the threshold to make predictions\n",
    "    predictions = (probabilities >= threshold).astype(int)\n",
    "    \n",
    "    # Calculate costs\n",
    "    costs = np.where(\n",
    "        (predictions == 0) & (Y == 1),  # False negatives\n",
    "        1,\n",
    "        np.where(\n",
    "            (predictions == 1) & (Y == 0),  # False positives\n",
    "            5,\n",
    "            0  # Correct predictions\n",
    "        )\n",
    "    )\n",
    "    \n",
    "    # Return the average cost\n",
    "    return np.mean(costs)\n",
    "\n",
    "\n",
    "# Hint, make sure that the model has a predict_proba method\n",
    "    # think about how the decision is made based on the probabilities\n",
    "    # and how the threshold can be used to make the decision.\n",
    "    # For reference take a look at the lecture notes \"Bayes classifier\"\n",
    "    # which contains how the decision is made based on the probabilities when the threshold is 0.5.\n",
    "    \n",
    "    # Fill in what is missing to compute the cost and return it\n",
    "    # Note that we are interested in average cost"
   ]
  },
  {
   "cell_type": "code",
   "execution_count": 8,
   "id": "b21963ec",
   "metadata": {
    "deletable": false,
    "lx_assignment_number": "4",
    "lx_assignment_type": "ASSIGNMENT",
    "lx_assignment_type2print": "Assignment",
    "lx_problem_cell_type": "PROBLEM",
    "lx_problem_number": "1",
    "lx_problem_points": "24"
   },
   "outputs": [
    {
     "name": "stdout",
     "output_type": "stream",
     "text": [
      "Optimal threshold: 0.8\n",
      "Cost at optimal threshold: 0.27332535885167464\n"
     ]
    }
   ],
   "source": [
    "# Part 5: Find the optimal threshold\n",
    "thresholds = np.linspace(0, 1, 101)\n",
    "costs = [cost(model, t, X_test, Y_test) for t in thresholds]\n",
    "optimal_threshold = thresholds[np.argmin(costs)]\n",
    "cost_at_optimal_threshold = min(costs)\n",
    "\n",
    "# Output the optimal threshold and its cost\n",
    "print(f\"Optimal threshold: {optimal_threshold}\")\n",
    "print(f\"Cost at optimal threshold: {cost_at_optimal_threshold}\")\n",
    "# Find the optimal threshold for the model on the test set. Store the threshold in the variable `optimal_threshold`\n",
    "# and the cost at the optimal threshold in the variable `cost_at_optimal_threshold` evaluated on the test set.\n"
   ]
  },
  {
   "cell_type": "code",
   "execution_count": null,
   "id": "79a1c5e6",
   "metadata": {
    "deletable": false,
    "lx_assignment_number": "4",
    "lx_assignment_type": "ASSIGNMENT",
    "lx_assignment_type2print": "Assignment",
    "lx_problem_cell_type": "PROBLEM",
    "lx_problem_number": "1",
    "lx_problem_points": "24"
   },
   "outputs": [
    {
     "name": "stdout",
     "output_type": "stream",
     "text": [
      "Cost at optimal threshold on validation set: 0.2758909351829706\n",
      "Confidence interval for the cost: (np.float64(0.2592968711066796), np.float64(0.2924849992592616))\n"
     ]
    }
   ],
   "source": [
    "# Part 6: Compute the cost on the validation set and confidence interval\n",
    "cost_at_optimal_threshold_valid = cost(model, optimal_threshold, X_valid, Y_valid)\n",
    "\n",
    "# Compute Hoeffding's inequality-based confidence interval\n",
    "n_valid = len(Y_valid)\n",
    "delta = 0.01  # 99% confidence level\n",
    "bound = np.sqrt(np.log(2 / delta) / (2 * n_valid))\n",
    "\n",
    "cost_interval_valid = (\n",
    "    cost_at_optimal_threshold_valid - bound,\n",
    "    cost_at_optimal_threshold_valid + bound\n",
    ")\n",
    "\n",
    "# Output the cost and confidence interval\n",
    "print(f\"Cost at optimal threshold on validation set: {cost_at_optimal_threshold_valid}\")\n",
    "print(f\"Confidence interval for the cost: {cost_interval_valid}\")\n",
    "\n",
    "\n",
    "assert(type(cost_interval_valid) == tuple)\n",
    "assert(len(cost_interval_valid) == 2)"
   ]
  },
  {
   "cell_type": "code",
   "execution_count": 10,
   "id": "e3bc0760",
   "metadata": {
    "deletable": false,
    "lx_assignment_number": "4",
    "lx_assignment_type": "ASSIGNMENT",
    "lx_assignment_type2print": "Assignment",
    "lx_problem_cell_type": "PROBLEM",
    "lx_problem_number": "1",
    "lx_problem_points": "24"
   },
   "outputs": [
    {
     "name": "stdout",
     "output_type": "stream",
     "text": [
      "Variance of C: 0.6614662854362982\n",
      "Confidence interval using Bennett's inequality: (np.float64(0.24889883885855565), np.float64(0.3028830315073855))\n"
     ]
    }
   ],
   "source": [
    "# Part 7: Compute variance and confidence interval using Bennett's inequality\n",
    "# Calculate the random variable C\n",
    "probabilities_valid = model.predict_proba(X_valid)[:, 1]\n",
    "predictions_valid = (probabilities_valid >= optimal_threshold).astype(int)\n",
    "c_values = np.where(\n",
    "    (predictions_valid == 0) & (Y_valid == 1),  # False negatives\n",
    "    1,\n",
    "    np.where(\n",
    "        (predictions_valid == 1) & (Y_valid == 0),  # False positives\n",
    "        5,\n",
    "        0  # Correct predictions\n",
    "    )\n",
    ")\n",
    "\n",
    "# Compute the empirical variance of C\n",
    "variance_of_C = np.var(c_values, ddof=1)\n",
    "\n",
    "# Compute Bennett's inequality-based confidence interval\n",
    "bound_bennett = np.sqrt((2 * variance_of_C * np.log(1 / delta)) / n_valid)\n",
    "interval_of_C = (\n",
    "    cost_at_optimal_threshold_valid - bound_bennett,\n",
    "    cost_at_optimal_threshold_valid + bound_bennett\n",
    ")\n",
    "\n",
    "# Output the variance and confidence interval\n",
    "print(f\"Variance of C: {variance_of_C}\")\n",
    "print(f\"Confidence interval using Bennett's inequality: {interval_of_C}\")\n",
    "\n",
    "\n",
    "assert(type(interval_of_C) == tuple)\n",
    "assert(len(interval_of_C) == 2)"
   ]
  }
 ],
 "metadata": {
  "kernelspec": {
   "display_name": "Python 3",
   "language": "python",
   "name": "python3"
  },
  "language_info": {
   "codemirror_mode": {
    "name": "ipython",
    "version": 3
   },
   "file_extension": ".py",
   "mimetype": "text/x-python",
   "name": "python",
   "nbconvert_exporter": "python",
   "pygments_lexer": "ipython3",
   "version": "3.12.4"
  },
  "lx_assignment_number": 4,
  "lx_course_instance": "2024",
  "lx_course_name": "Introduction to Data Science",
  "lx_course_number": "1MS041"
 },
 "nbformat": 4,
 "nbformat_minor": 5
}
